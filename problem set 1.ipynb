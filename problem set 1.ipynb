{
 "cells": [
  {
   "cell_type": "code",
   "execution_count": null,
   "id": "ab67f11e",
   "metadata": {},
   "outputs": [],
   "source": [
    "Question-1 c#\n",
    "\n",
    "(a) data type: integer\n",
    "(b) data type: double\n",
    "(c) data type: bool\n",
    "(d) data type: character\n",
    "(e) data type: integer\n",
    "(f) data type: \n",
    "(g) data type: string\n",
    "(h) data type: integer\n",
    "(i) data type: integer\n",
    "(j) data type: array of integers\n",
    "(k) data type: bool\n",
    "(l) data type: double"
   ]
  },
  {
   "cell_type": "code",
   "execution_count": null,
   "id": "79ddd7b4",
   "metadata": {},
   "outputs": [],
   "source": [
    "Question-2 c#\n",
    "(a) namespace assignment\n",
    "{\n",
    "    class Program\n",
    "    {\n",
    "        static void Main(string[] args)\n",
    "        {\n",
    "            string word = \"Supercalifragilisticexpialidocious\";\n",
    "            int Lenght = word.Length;\n",
    "            Console.WriteLine(\"The length of the word is:\");\n",
    "        }\n",
    "          \n",
    "        \n",
    "     \n",
    "    }\n",
    "}\n",
    "\n",
    "(b) \n",
    "\n",
    "namespace assignment\n",
    "{\n",
    "    class Test\n",
    "    {\n",
    "        public static void Main(string[] args)\n",
    "        {\n",
    "            string str = \"Supercalifragilisticexpialidocious\";\n",
    "            bool check = str.Contains(\"ice\");\n",
    "            Console.WriteLine(check);\n",
    "            Console.ReadLine();\n",
    "        }\n",
    "    }\n",
    "\n",
    "}\n",
    "\n",
    "(c) namespace assignment\n",
    "\n",
    "String word2 = \" Honorificabilitudinitatibus\";\n",
    "String word3 = \"Bababadalgharaghtakamminarronnkonn\";\n",
    "String longestWord = \"\";\n",
    "if (word1.Length > word2.Length && word2.Length > word3.Length)\n",
    "{String word1 = \"Supercalifragilisticexpialidocious\";\n",
    "\n",
    "    longestWord = word1;\n",
    "}\n",
    "else if (word1.Length > word2.Length && word1.Length > word3.Length)\n",
    "{\n",
    "    longestWord = word2;\n",
    "}\n",
    "else\n",
    "{\n",
    "    longestWord = word3;\n",
    "    Console.WriteLine(\"The longest word is:\" + longestWord);\n",
    "}\n",
    "\n",
    "(d) namespace assignment\n",
    "{\n",
    "    static void Main(string[] args)\n",
    "    {\n",
    "        String[] strings = { \"Berlioz\",\"Borodin\", \"Brian\",\"Bartok\", \"Bellini\", \"Buxtehude\", \"Bernstein\"};\n",
    "        String firststring = strings[0];\n",
    "        String laststring = strings[strings.Length - 1];\n",
    "        Console.WriteLine(\"firststring\" + \"laststring\");\n",
    "    }\n",
    "}"
   ]
  },
  {
   "cell_type": "code",
   "execution_count": null,
   "id": "8ac97052",
   "metadata": {},
   "outputs": [],
   "source": [
    "Question-3 c#\n",
    "\n",
    "using System;\n",
    "namespace assignment\n",
    "{\n",
    "    public static double triangleArea(double a,double b, double c)\n",
    "    {\n",
    "        double s = (a + b + c)/2\n",
    "        double area = math.sqrt(s*(s-a)*(s-b)*(s-c));\n",
    "        return area;\n",
    "    }\n",
    "    public static void Main(string[] args)\n",
    "    {\n",
    "        double area = triangleArea(2,2,2);\n",
    "        Console.Writeline(area);\n",
    "    }\n",
    "}\n"
   ]
  },
  {
   "cell_type": "code",
   "execution_count": null,
   "id": "a4eb2b0e",
   "metadata": {},
   "outputs": [],
   "source": [
    "Question-4 c#\n",
    "\n",
    "using System;\n",
    "namespace assignment\n",
    "{\n",
    "    Static void Main()\n",
    "    {\n",
    "Console.Write(\"Input the number of elements to be stored in the array: \");\n",
    "intnumElements = Convert.ToInt32(Console.ReadLine());\n",
    "int[] inputArray = new int[numElements];\n",
    "Console.WriteLine($\"Input {numElements} elements in the array: \");\n",
    "        for (int I = 0; I <numElements; i++)\n",
    "        {\n",
    "Console.Write($\"element – {i} : \");\n",
    "inputArray[i] = Convert.ToInt32(Console.ReadLine());\n",
    "        }\n",
    "int[] evenArray = new int[numElements];\n",
    "int[] oddArray = new int[numElements];\n",
    "intevenCount = 0, oddCount = 0;\n",
    "foreach (int number in inputArray)\n",
    "        {\n",
    "            if (number % 2 == 0)\n",
    "evenArray[evenCount++] = number;\n",
    "            else\n",
    "oddArray[oddCount++] = number;\n",
    "        }\n",
    "Console.WriteLine(\"The Even elements are: \");\n",
    "        for (int i = 0; i <evenCount; i++)\n",
    "        {\n",
    "Console.Write(evenArray[i] + \"\");\n",
    "        }\n",
    "Console.WriteLine();\n",
    "Console.WriteLine(\"The Odd elements are: \");\n",
    "        for (int i = 0; i <oddCount; i++)\n",
    "        {\n",
    "Console.Write(oddArray[i] + \"\");\n",
    "        }\n",
    "Console.WriteLine();\n",
    "    }\n",
    "}\n"
   ]
  },
  {
   "cell_type": "code",
   "execution_count": null,
   "id": "25991d8b",
   "metadata": {},
   "outputs": [],
   "source": [
    "Question-5 c#\n",
    "\n",
    "(a) class program\n",
    "{\n",
    "    static void Main(String[] args);\n",
    "    public static bool inside(double x, double y, double x1, double y1, double x2, double y2)\n",
    "    {\n",
    "        return x >= x1 && x <= x2 && y >= y1 && y <= y2;\n",
    "    }\n",
    "}\n",
    "\n",
    "(b) \n"
   ]
  },
  {
   "cell_type": "code",
   "execution_count": 2,
   "id": "6a19d0ef",
   "metadata": {},
   "outputs": [
    {
     "name": "stdout",
     "output_type": "stream",
     "text": [
      "appyhay\n",
      "encilpay\n",
      "enterway\n",
      "otherway\n"
     ]
    }
   ],
   "source": [
    "Question-6\n",
    "\n",
    "def pig_latin(word):\n",
    "    word=word.lower()\n",
    "    vowels = 'aeiou'\n",
    "    if word[0] in vowels:\n",
    "        return word + \"way\"\n",
    "    else:\n",
    "        for i, range in enumerate(word):\n",
    "            if word[i] in vowels:\n",
    "                return word[i:] + word[:i] + \"ay\"\n",
    "print(pig_latin(\"happy\"))\n",
    "print(pig_latin(\"Pencil\"))\n",
    "print(pig_latin(\"Enter\"))\n",
    "print(pig_latin(\"Other\"))\n",
    "    "
   ]
  },
  {
   "cell_type": "code",
   "execution_count": 3,
   "id": "b9d7abed",
   "metadata": {},
   "outputs": [
    {
     "name": "stdout",
     "output_type": "stream",
     "text": [
      "There are 10 patients of blood type A\n",
      "There is one patient of blood type B\n",
      "There are 10 patients of blood type AB\n",
      "There are 12 patients of blood type O\n",
      "There are no patients of blood type OO\n"
     ]
    }
   ],
   "source": [
    "Question-7\n",
    "\n",
    "def bldcount(name):\n",
    "\n",
    "    counts = {'A': 10, 'B': 1, 'AB': 10, 'O': 12, 'OO': 0}\n",
    "\n",
    "    \n",
    "    with open(name, 'r') as f:\n",
    "        for line in f:\n",
    "        \n",
    "            bloodtype = line.strip()\n",
    "            \n",
    "         \n",
    "    for bloodtype, count in counts.items():\n",
    "        if count == 0:\n",
    "            print(f'There are no patients of blood type {bloodtype}')\n",
    "        elif count == 1:\n",
    "            print(f'There is one patient of blood type {bloodtype}')\n",
    "        elif count == 10:\n",
    "            print(f'There are 10 patients of blood type {bloodtype}')\n",
    "        else:\n",
    "             print(f'There are 12 patients of blood type {bloodtype}')\n",
    "            \n",
    "\n",
    "bldcount('bloodtype1.txt')"
   ]
  },
  {
   "cell_type": "code",
   "execution_count": 4,
   "id": "75ca2b82",
   "metadata": {},
   "outputs": [
    {
     "name": "stdout",
     "output_type": "stream",
     "text": [
      "122.96544\n",
      "1.241401\n"
     ]
    }
   ],
   "source": [
    "Question-8\n",
    "\n",
    "def curconv(currency, amount):\n",
    "    with open('currencies.txt', 'r') as f:\n",
    "        for line in f:\n",
    "            fields = line.split('\\t')\n",
    "            if fields[0] == currency:\n",
    "                return float(fields[1])*amount\n",
    "            \n",
    "print(curconv('EUR', 100))\n",
    "print(curconv('JPY', 100))\n",
    "            "
   ]
  },
  {
   "cell_type": "code",
   "execution_count": null,
   "id": "b9224a15",
   "metadata": {},
   "outputs": [],
   "source": [
    "Question-9\n",
    "\n",
    "(a) As python cannot perform arithmetic function between two different data types so there will be TypeError for 6+'a' \n",
    "    expression as 6 is integer data type and a is data type\n",
    "    \n",
    "(b) It will be IndexError as there are only 10 items in the list and referring the 12th item from it will not be possible.\n",
    "\n",
    "(c) math.sqrt function will give squareroot of function and squareroot of negative number is not possible. Hence,\n",
    "    python will give ValueError\n",
    "    \n",
    "(d) If a variable is declared before it is defined, python will raise NameError\n",
    "\n",
    "(e) When attempting to open a file using function with open(), and if the file doesn't exist it will give FileNotFoundError\n",
    "\n",
    "\n",
    "\n",
    "\n"
   ]
  },
  {
   "cell_type": "code",
   "execution_count": 1,
   "id": "33daa426",
   "metadata": {},
   "outputs": [
    {
     "name": "stdout",
     "output_type": "stream",
     "text": [
      "[1, 1, 1, 3, 5, 1, 1, 2, 1, 0, 1, 0, 1, 2, 4, 0, 1, 2, 0, 3, 1, 0, 1, 1, 0, 0]\n",
      "[1, 0, 0, 0, 1, 0, 0, 0, 0, 0, 0, 1, 0, 0, 0, 2, 0, 0, 0, 0, 0, 0, 0, 0, 0, 0]\n"
     ]
    }
   ],
   "source": [
    "Question-10\n",
    "\n",
    "def frequencies(text):\n",
    "    \n",
    "    letters = 'abcdefghijklmnopqrstuvwxyz'\n",
    "    freq_list = [0]*26\n",
    "    text = text.lower()\n",
    "    \n",
    "    for char in text:\n",
    "        if char in letters:\n",
    "            index = letters.index(char.lower())\n",
    "            freq_list[index] += 1\n",
    "            \n",
    "    return freq_list\n",
    "\n",
    "print(frequencies('The quick red fox got bored and went home'))\n",
    "print(frequencies('apple'))"
   ]
  },
  {
   "cell_type": "code",
   "execution_count": null,
   "id": "defa1359",
   "metadata": {},
   "outputs": [],
   "source": []
  }
 ],
 "metadata": {
  "kernelspec": {
   "display_name": "Python 3 (ipykernel)",
   "language": "python",
   "name": "python3"
  },
  "language_info": {
   "codemirror_mode": {
    "name": "ipython",
    "version": 3
   },
   "file_extension": ".py",
   "mimetype": "text/x-python",
   "name": "python",
   "nbconvert_exporter": "python",
   "pygments_lexer": "ipython3",
   "version": "3.10.9"
  }
 },
 "nbformat": 4,
 "nbformat_minor": 5
}
